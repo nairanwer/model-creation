{
 "cells": [
  {
   "cell_type": "code",
   "execution_count": 6,
   "id": "ac9b37f7",
   "metadata": {},
   "outputs": [],
   "source": [
    "from cobra import Model , Reaction , Metabolite"
   ]
  },
  {
   "cell_type": "code",
   "execution_count": 7,
   "id": "734ada97",
   "metadata": {},
   "outputs": [],
   "source": [
    "cobra_config = cobra.Configuration()"
   ]
  },
  {
   "cell_type": "code",
   "execution_count": 8,
   "id": "7d139149",
   "metadata": {},
   "outputs": [],
   "source": [
    "model = Model(\"reactions_model\")"
   ]
  },
  {
   "cell_type": "code",
   "execution_count": 13,
   "id": "c0fd07ce",
   "metadata": {},
   "outputs": [],
   "source": [
    "# REACTIONS \n",
    "\n",
    "# Reaction 0 : =====> A\n",
    "\n",
    "reaction0=Reaction('reaction0')\n",
    "reaction0.name='reaction0'\n",
    "reaction0.lower_bound=1\n",
    "reaction0.upper_bound=1\n",
    "\n",
    "# Reaction 1 : A=====> B\n",
    "\n",
    "reaction1=Reaction('reaction1')\n",
    "reaction1.name='reaction1'\n",
    "reaction1.lower_bound=0\n",
    "reaction1.upper_bound=1000\n",
    "\n",
    "# Reaction 2 : B=====> c\n",
    "\n",
    "reaction2=Reaction('reaction2')\n",
    "reaction2.name='reaction2'\n",
    "reaction2.lower_bound=0\n",
    "reaction2.upper_bound=1000\n",
    "\n",
    "\n",
    "# Reaction 3 : ATP=====> \n",
    "\n",
    "reaction3=Reaction('reaction3')\n",
    "ATP_R.name='reaction3'\n",
    "ATP_R.lower_bound=0.9\n",
    "ATP_R.upper_bound=0.9\n",
    "\n",
    "\n",
    "# ATP Reaction  : A=====> ATP \n",
    "\n",
    "ATP_R=Reaction('ATP_R')\n",
    "ATP_R.name='ATP_R'\n",
    "ATP_R.lower_bound=0\n",
    "ATP_R.upper_bound=1000\n",
    "\n",
    "\n",
    "# Reaction M : C=====>  \n",
    "\n",
    "M=Reaction('M')\n",
    "M.name='M'\n",
    "M.lower_bound=0\n",
    "M.upper_bound=1000\n",
    "\n",
    "\n",
    "\n"
   ]
  },
  {
   "cell_type": "code",
   "execution_count": 14,
   "id": "a39abf67",
   "metadata": {},
   "outputs": [],
   "source": [
    "# DEFINIG METABOLITES \n",
    "\n",
    "A= Metabolite('A',compartment='c')\n",
    "B=Metabolite('B',compartment='c')\n",
    "C= Metabolite('C',compartment='c')\n",
    "ATP= Metabolite('ATP',compartment='c')"
   ]
  },
  {
   "cell_type": "code",
   "execution_count": 16,
   "id": "289e669c",
   "metadata": {},
   "outputs": [],
   "source": [
    "# ADDING METABOLITES\n",
    "\n",
    "reaction0.add_metabolites({A:1})\n",
    "\n",
    "\n",
    "reaction1.add_metabolites({A:-1,B:1})\n",
    "\n",
    "\n",
    "reaction2.add_metabolites({B:-1,C:1})\n",
    "\n",
    "\n",
    "reaction3.add_metabolites({ATP:-1})\n",
    "\n",
    "\n",
    "M.add_metabolites({C:-1})\n",
    "\n",
    "\n",
    "ATP_R.add_metabolites({A:-1,ATP:1})\n",
    "\n",
    "\n",
    "\n"
   ]
  },
  {
   "cell_type": "code",
   "execution_count": 17,
   "id": "a0ae9cde",
   "metadata": {},
   "outputs": [],
   "source": [
    "# ADDING THE REACTIONS IN THE MODEL\n",
    "\n",
    "model.add_reactions([reaction0,reaction1,reaction2,reaction3,M ,ATP_R])\n"
   ]
  },
  {
   "cell_type": "code",
   "execution_count": 18,
   "id": "7815ddd9",
   "metadata": {},
   "outputs": [],
   "source": [
    "# ADDING M AS THE OBJECTIVE FUNCTION\n",
    "\n",
    "model.objective=\"M\""
   ]
  },
  {
   "cell_type": "code",
   "execution_count": 19,
   "id": "f5d874e0",
   "metadata": {
    "collapsed": true
   },
   "outputs": [
    {
     "data": {
      "text/html": [
       "<strong><em>Optimal</em> solution with objective value 1.000</strong><br><div>\n",
       "<style scoped>\n",
       "    .dataframe tbody tr th:only-of-type {\n",
       "        vertical-align: middle;\n",
       "    }\n",
       "\n",
       "    .dataframe tbody tr th {\n",
       "        vertical-align: top;\n",
       "    }\n",
       "\n",
       "    .dataframe thead th {\n",
       "        text-align: right;\n",
       "    }\n",
       "</style>\n",
       "<table border=\"1\" class=\"dataframe\">\n",
       "  <thead>\n",
       "    <tr style=\"text-align: right;\">\n",
       "      <th></th>\n",
       "      <th>fluxes</th>\n",
       "      <th>reduced_costs</th>\n",
       "    </tr>\n",
       "  </thead>\n",
       "  <tbody>\n",
       "    <tr>\n",
       "      <th>reaction0</th>\n",
       "      <td>1.0</td>\n",
       "      <td>2.0</td>\n",
       "    </tr>\n",
       "    <tr>\n",
       "      <th>reaction1</th>\n",
       "      <td>1.0</td>\n",
       "      <td>0.0</td>\n",
       "    </tr>\n",
       "    <tr>\n",
       "      <th>reaction2</th>\n",
       "      <td>1.0</td>\n",
       "      <td>0.0</td>\n",
       "    </tr>\n",
       "    <tr>\n",
       "      <th>reaction3</th>\n",
       "      <td>0.0</td>\n",
       "      <td>-2.0</td>\n",
       "    </tr>\n",
       "    <tr>\n",
       "      <th>M</th>\n",
       "      <td>1.0</td>\n",
       "      <td>0.0</td>\n",
       "    </tr>\n",
       "    <tr>\n",
       "      <th>ATP_R</th>\n",
       "      <td>0.0</td>\n",
       "      <td>0.0</td>\n",
       "    </tr>\n",
       "  </tbody>\n",
       "</table>\n",
       "</div>"
      ],
      "text/plain": [
       "<Solution 1.000 at 0x1d51bd36bb0>"
      ]
     },
     "execution_count": 19,
     "metadata": {},
     "output_type": "execute_result"
    }
   ],
   "source": [
    "# MODEL OPTIMIZATION\n",
    "\n",
    "model.optimize()"
   ]
  },
  {
   "cell_type": "code",
   "execution_count": 20,
   "id": "81470ab8",
   "metadata": {
    "collapsed": true
   },
   "outputs": [
    {
     "data": {
      "text/html": [
       "<h3>Objective</h3><p>1.0 M = 1.0</p><h4>Uptake</h4><table border=\"1\" class=\"dataframe\">\n",
       "  <thead>\n",
       "    <tr style=\"text-align: right;\">\n",
       "      <th>Metabolite</th>\n",
       "      <th>Reaction</th>\n",
       "      <th>Flux</th>\n",
       "      <th>C-Number</th>\n",
       "      <th>C-Flux</th>\n",
       "    </tr>\n",
       "  </thead>\n",
       "  <tbody>\n",
       "    <tr>\n",
       "      <td>A</td>\n",
       "      <td>reaction0</td>\n",
       "      <td>1</td>\n",
       "      <td>0</td>\n",
       "      <td>0.00%</td>\n",
       "    </tr>\n",
       "  </tbody>\n",
       "</table><h4>Secretion</h4><table border=\"1\" class=\"dataframe\">\n",
       "  <thead>\n",
       "    <tr style=\"text-align: right;\">\n",
       "      <th>Metabolite</th>\n",
       "      <th>Reaction</th>\n",
       "      <th>Flux</th>\n",
       "      <th>C-Number</th>\n",
       "      <th>C-Flux</th>\n",
       "    </tr>\n",
       "  </thead>\n",
       "  <tbody>\n",
       "    <tr>\n",
       "      <td>C</td>\n",
       "      <td>M</td>\n",
       "      <td>-1</td>\n",
       "      <td>0</td>\n",
       "      <td>0.00%</td>\n",
       "    </tr>\n",
       "  </tbody>\n",
       "</table>"
      ],
      "text/plain": [
       "<cobra.summary.model_summary.ModelSummary at 0x1d51bd36f40>"
      ]
     },
     "execution_count": 20,
     "metadata": {},
     "output_type": "execute_result"
    }
   ],
   "source": [
    "# MODEL SUMMARY\n",
    "\n",
    "model.summary()"
   ]
  }
 ],
 "metadata": {
  "kernelspec": {
   "display_name": "Python 3",
   "language": "python",
   "name": "python3"
  },
  "language_info": {
   "codemirror_mode": {
    "name": "ipython",
    "version": 3
   },
   "file_extension": ".py",
   "mimetype": "text/x-python",
   "name": "python",
   "nbconvert_exporter": "python",
   "pygments_lexer": "ipython3",
   "version": "3.8.8"
  }
 },
 "nbformat": 4,
 "nbformat_minor": 5
}
